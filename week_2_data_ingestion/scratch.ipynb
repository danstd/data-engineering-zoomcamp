{
 "cells": [
  {
   "cell_type": "code",
   "execution_count": null,
   "id": "a4b6ac09",
   "metadata": {},
   "outputs": [],
   "source": [
    "# Yellow taxi data for Feb. 2019 and March 2019"
   ]
  },
  {
   "cell_type": "code",
   "execution_count": 3,
   "id": "5152f067",
   "metadata": {},
   "outputs": [],
   "source": [
    "import pandas as pd\n",
    "import json"
   ]
  },
  {
   "cell_type": "code",
   "execution_count": 2,
   "id": "e0bd580f",
   "metadata": {},
   "outputs": [],
   "source": [
    "color=\"yellow\"\n",
    "year = 2019\n",
    "month = 2\n",
    "dataset_file = f\"{color}_tripdata_{year}-{month:02}\"\n",
    "    \n",
    "dataset_url = f\"https://github.com/DataTalksClub/nyc-tlc-data/releases/download/{color}/{dataset_file}.csv.gz\""
   ]
  },
  {
   "cell_type": "code",
   "execution_count": 3,
   "id": "db2d304f",
   "metadata": {},
   "outputs": [],
   "source": [
    "head = pd.read_csv(dataset_url, nrows=1)"
   ]
  },
  {
   "cell_type": "code",
   "execution_count": 6,
   "id": "9bebec04",
   "metadata": {},
   "outputs": [
    {
     "data": {
      "text/plain": [
       "{'VendorID': dtype('int64'),\n",
       " 'tpep_pickup_datetime': dtype('O'),\n",
       " 'tpep_dropoff_datetime': dtype('O'),\n",
       " 'passenger_count': dtype('int64'),\n",
       " 'trip_distance': dtype('float64'),\n",
       " 'RatecodeID': dtype('int64'),\n",
       " 'store_and_fwd_flag': dtype('O'),\n",
       " 'PULocationID': dtype('int64'),\n",
       " 'DOLocationID': dtype('int64'),\n",
       " 'payment_type': dtype('int64'),\n",
       " 'fare_amount': dtype('int64'),\n",
       " 'extra': dtype('float64'),\n",
       " 'mta_tax': dtype('float64'),\n",
       " 'tip_amount': dtype('int64'),\n",
       " 'tolls_amount': dtype('int64'),\n",
       " 'improvement_surcharge': dtype('float64'),\n",
       " 'total_amount': dtype('float64'),\n",
       " 'congestion_surcharge': dtype('int64')}"
      ]
     },
     "execution_count": 6,
     "metadata": {},
     "output_type": "execute_result"
    }
   ],
   "source": [
    "head.dtypes.to_dict()"
   ]
  },
  {
   "cell_type": "code",
   "execution_count": null,
   "id": "c2cf6ef5",
   "metadata": {},
   "outputs": [],
   "source": []
  },
  {
   "cell_type": "code",
   "execution_count": null,
   "id": "e20e6552",
   "metadata": {},
   "outputs": [],
   "source": [
    "YELLOW_SCHEMA = {\n",
    "    \"VendorID\": int,\n",
    "    \"tpep_pickup_datetime\": str,\n",
    "    \"tpep_dropoff_datetime\": str,\n",
    "    \"passenger_count\": int,\n",
    "    \"trip_distance\": float,\n",
    "    \"RatecodeID\": int,\n",
    "    \"store_and_fwd_flag\": str,\n",
    "    \"PULocationID\": float,\n",
    "    \"DOLocationID\": float,\n",
    "    \"payment_type\": int,\n",
    "    \"fare_amount\": float,\n",
    "    \"extra\": float,\n",
    "    \"mta_tax\": float,\n",
    "    \"tip_amount\": float,\n",
    "    \"tolls_amount\": float,\n",
    "    \"improvement_surcharge\": float,\n",
    "    \"total_amount\": float,\n",
    "    \"congestion_surcharge\": float\n",
    "}\n",
    "\n",
    "YELLOW_DATE_COLS = [\"tpep_pickup_datetime\", \"tpep_dropoff_datetime\"]"
   ]
  },
  {
   "cell_type": "code",
   "execution_count": 7,
   "id": "734f8340",
   "metadata": {},
   "outputs": [],
   "source": [
    "import json"
   ]
  },
  {
   "cell_type": "code",
   "execution_count": 4,
   "id": "5e7f7485",
   "metadata": {},
   "outputs": [],
   "source": [
    "with open(\"taxi_schemas.json\", \"r\") as f:\n",
    "    data = json.load(f)"
   ]
  },
  {
   "cell_type": "code",
   "execution_count": 7,
   "id": "5152bc31",
   "metadata": {},
   "outputs": [],
   "source": [
    "yellow = data[\"yellow\"]\n",
    "green = data[\"green\"]"
   ]
  },
  {
   "cell_type": "code",
   "execution_count": 8,
   "id": "06f75c06",
   "metadata": {},
   "outputs": [
    {
     "data": {
      "text/plain": [
       "['tpep_pickup_datetime', 'tpep_dropoff_datetime']"
      ]
     },
     "execution_count": 8,
     "metadata": {},
     "output_type": "execute_result"
    }
   ],
   "source": [
    "[i for i in yellow.keys() if i not in green.keys()]"
   ]
  },
  {
   "cell_type": "code",
   "execution_count": 10,
   "id": "72007cba",
   "metadata": {},
   "outputs": [
    {
     "data": {
      "text/plain": [
       "['lpep_pickup_datetime', 'lpep_dropoff_datetime', 'ehail_fee', 'trip_type']"
      ]
     },
     "execution_count": 10,
     "metadata": {},
     "output_type": "execute_result"
    }
   ],
   "source": [
    "[i for i in green.keys() if i not in yellow.keys()]"
   ]
  },
  {
   "cell_type": "code",
   "execution_count": 14,
   "id": "91b3463e",
   "metadata": {},
   "outputs": [],
   "source": [
    "combined = list(green.keys())\n",
    "combined.extend(list(yellow.keys()))\n",
    "combined = list(set(combined))"
   ]
  },
  {
   "cell_type": "code",
   "execution_count": 21,
   "id": "f8550e8f",
   "metadata": {},
   "outputs": [
    {
     "name": "stdout",
     "output_type": "stream",
     "text": [
      "payment_type: green: str; yellow: int\n",
      "passenger_count: green: float; yellow: int\n",
      "PULocationID: green: str; yellow: float\n",
      "VendorID: green: float; yellow: int\n",
      "RatecodeID: green: str; yellow: int\n",
      "DOLocationID: green: str; yellow: float\n"
     ]
    }
   ],
   "source": [
    "combined_schema = dict()\n",
    "for col in combined:\n",
    "    green_type = None\n",
    "    yellow_type = None\n",
    "    green_only=False\n",
    "    yellow_only=False\n",
    "    \n",
    "    if col in green.keys():\n",
    "        green_type = green[col]\n",
    "    else:\n",
    "        #print(f\"{col} not in green\")\n",
    "        yellow_only = True\n",
    "    \n",
    "    if col in yellow.keys():\n",
    "        yellow_type = yellow[col]\n",
    "    else:\n",
    "        #print(f\"{col} not in yellow\")\n",
    "        green_only = True\n",
    "    \n",
    "    if yellow_only:\n",
    "        combined_schema[col] = yellow_type\n",
    "    if green_only:\n",
    "        combined_schema[col] = green_type\n",
    "    \n",
    "    if (green_type is not None) and (yellow_type is not None):\n",
    "        if green_type != yellow_type:\n",
    "            print(f\"{col}: green: {green_type}; yellow: {yellow_type}\")\n",
    "        else:\n",
    "            combined_schema[col] = yellow_type "
   ]
  },
  {
   "cell_type": "code",
   "execution_count": 26,
   "id": "7b4c42ea",
   "metadata": {},
   "outputs": [],
   "source": [
    "combined_schema[\"color\"] = str\n",
    "combined_schema[\"payment_type\"] = int\n",
    "combined_schema[\"passenger_count\"] = int\n",
    "combined_schema[\"PULocationID\"] = str\n",
    "combined_schema[\"VendorID\"] = int\n",
    "combined_schema[\"RatecodeID\"] = int\n",
    "combined_schema[\"DOLocationID\"] = int\n",
    "\n",
    "combined_schema[\"pep_pickup_datetime\"] = \"datetime\"\n",
    "combined_schema[\"pep_dropoff_datetime\"] = \"datetime\""
   ]
  },
  {
   "cell_type": "code",
   "execution_count": 24,
   "id": "218d80a8",
   "metadata": {},
   "outputs": [
    {
     "data": {
      "text/plain": [
       "'datetime'"
      ]
     },
     "execution_count": 24,
     "metadata": {},
     "output_type": "execute_result"
    }
   ],
   "source": [
    "combined_schema.pop(\"lpep_dropoff_datetime\")\n",
    "combined_schema.pop(\"lpep_pickup_datetime\")\n",
    "combined_schema.pop(\"tpep_dropoff_datetime\")\n",
    "combined_schema.pop(\"tpep_pickup_datetime\")"
   ]
  },
  {
   "cell_type": "code",
   "execution_count": 27,
   "id": "9963bfc1",
   "metadata": {},
   "outputs": [
    {
     "data": {
      "text/plain": [
       "{'fare_amount': 'float',\n",
       " 'trip_type': 'str',\n",
       " 'store_and_fwd_flag': 'str',\n",
       " 'tolls_amount': 'float',\n",
       " 'trip_distance': 'float',\n",
       " 'congestion_surcharge': 'float',\n",
       " 'mta_tax': 'float',\n",
       " 'extra': 'float',\n",
       " 'ehail_fee': 'float',\n",
       " 'improvement_surcharge': 'float',\n",
       " 'tip_amount': 'float',\n",
       " 'total_amount': 'float',\n",
       " 'color': str,\n",
       " 'payment_type': int,\n",
       " 'passenger_count': int,\n",
       " 'PULocationID': str,\n",
       " 'VendorID': int,\n",
       " 'RatecodeID': int,\n",
       " 'DOLocationID': int,\n",
       " 'pep_pickup_datetime': 'datetime',\n",
       " 'pep_dropoff_datetime': 'datetime'}"
      ]
     },
     "execution_count": 27,
     "metadata": {},
     "output_type": "execute_result"
    }
   ],
   "source": [
    "combined_schema"
   ]
  },
  {
   "cell_type": "code",
   "execution_count": 28,
   "id": "42ba5433",
   "metadata": {},
   "outputs": [],
   "source": [
    "\n",
    "for k in green.keys():\n",
    "    if k in combined_schema.keys():\n",
    "        green[k] = combined_schema[k]"
   ]
  },
  {
   "cell_type": "code",
   "execution_count": 29,
   "id": "257747ce",
   "metadata": {},
   "outputs": [],
   "source": [
    "for k in yellow.keys():\n",
    "    if k in combined_schema.keys():\n",
    "        yellow[k] = combined_schema[k]"
   ]
  },
  {
   "cell_type": "code",
   "execution_count": 31,
   "id": "aae00db8",
   "metadata": {},
   "outputs": [
    {
     "data": {
      "text/plain": [
       "{'VendorID': int,\n",
       " 'lpep_pickup_datetime': 'datetime',\n",
       " 'lpep_dropoff_datetime': 'datetime',\n",
       " 'store_and_fwd_flag': 'str',\n",
       " 'RatecodeID': int,\n",
       " 'PULocationID': str,\n",
       " 'DOLocationID': int,\n",
       " 'passenger_count': int,\n",
       " 'trip_distance': 'float',\n",
       " 'fare_amount': 'float',\n",
       " 'extra': 'float',\n",
       " 'mta_tax': 'float',\n",
       " 'tip_amount': 'float',\n",
       " 'tolls_amount': 'float',\n",
       " 'ehail_fee': 'float',\n",
       " 'improvement_surcharge': 'float',\n",
       " 'total_amount': 'float',\n",
       " 'payment_type': int,\n",
       " 'trip_type': 'str',\n",
       " 'congestion_surcharge': 'float'}"
      ]
     },
     "execution_count": 31,
     "metadata": {},
     "output_type": "execute_result"
    }
   ],
   "source": [
    "green"
   ]
  },
  {
   "cell_type": "code",
   "execution_count": 32,
   "id": "b1ce7a52",
   "metadata": {},
   "outputs": [
    {
     "data": {
      "text/plain": [
       "{'fare_amount': 'float',\n",
       " 'trip_type': 'str',\n",
       " 'store_and_fwd_flag': 'str',\n",
       " 'tolls_amount': 'float',\n",
       " 'trip_distance': 'float',\n",
       " 'congestion_surcharge': 'float',\n",
       " 'mta_tax': 'float',\n",
       " 'extra': 'float',\n",
       " 'ehail_fee': 'float',\n",
       " 'improvement_surcharge': 'float',\n",
       " 'tip_amount': 'float',\n",
       " 'total_amount': 'float',\n",
       " 'color': str,\n",
       " 'payment_type': int,\n",
       " 'passenger_count': int,\n",
       " 'PULocationID': str,\n",
       " 'VendorID': int,\n",
       " 'RatecodeID': int,\n",
       " 'DOLocationID': int,\n",
       " 'pep_pickup_datetime': 'datetime',\n",
       " 'pep_dropoff_datetime': 'datetime'}"
      ]
     },
     "execution_count": 32,
     "metadata": {},
     "output_type": "execute_result"
    }
   ],
   "source": [
    "combined_schema"
   ]
  }
 ],
 "metadata": {
  "kernelspec": {
   "display_name": "Python 3 (ipykernel)",
   "language": "python",
   "name": "python3"
  },
  "language_info": {
   "codemirror_mode": {
    "name": "ipython",
    "version": 3
   },
   "file_extension": ".py",
   "mimetype": "text/x-python",
   "name": "python",
   "nbconvert_exporter": "python",
   "pygments_lexer": "ipython3",
   "version": "3.9.10"
  }
 },
 "nbformat": 4,
 "nbformat_minor": 5
}
